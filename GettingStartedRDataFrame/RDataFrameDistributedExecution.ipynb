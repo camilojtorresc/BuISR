{
 "cells": [
  {
   "cell_type": "code",
   "execution_count": 1,
   "metadata": {},
   "outputs": [
    {
     "name": "stdout",
     "output_type": "stream",
     "text": [
      "Welcome to JupyROOT 6.24/02\n"
     ]
    }
   ],
   "source": [
    "import numpy as np\n",
    "import ROOT\n",
    "from ROOT import gSystem, gROOT\n",
    "from ROOT import *\n",
    "import pyspark"
   ]
  },
  {
   "cell_type": "markdown",
   "metadata": {},
   "source": [
    "## Distributed execution"
   ]
  },
  {
   "cell_type": "code",
   "execution_count": 2,
   "metadata": {},
   "outputs": [
    {
     "name": "stderr",
     "output_type": "stream",
     "text": [
      "/home/user/Products/root/lib/DistRDF/Node.py:591: UserWarning: Number of partitions is greater than number of clusters in the dataset. Using 1 partition(s)\n",
      "  return self._get_clustered_ranges(treename, inputfiles, friendinfo)\n"
     ]
    },
    {
     "name": "stdout",
     "output_type": "stream",
     "text": [
      "959.0803231898991\n",
      "22/06/21 13:22:45 WARN Utils: Your hostname, user-Lenovo-ideapad-330S-14IKB resolves to a loopback address: 127.0.1.1; using 10.1.198.50 instead (on interface wlp1s0)\n",
      "22/06/21 13:22:45 WARN Utils: Set SPARK_LOCAL_IP if you need to bind to another address\n",
      "22/06/21 13:22:51 WARN NativeCodeLoader: Unable to load native-hadoop library for your platform... using builtin-java classes where applicable\n"
     ]
    },
    {
     "name": "stderr",
     "output_type": "stream",
     "text": [
      "Setting default log level to \"WARN\".\n",
      "To adjust logging level use sc.setLogLevel(newLevel). For SparkR, use setLogLevel(newLevel).\n",
      "Info in <TCanvas::Print>: png file Bupt_m10.png has been created                \n"
     ]
    },
    {
     "data": {
      "image/png": "[encoded data removed]",
      "text/plain": [
       "<IPython.core.display.Image object>"
      ]
     },
     "metadata": {},
     "output_type": "display_data"
    }
   ],
   "source": [
    "\n",
    " \n",
    "# Point RDataFrame calls to the Spark specific RDataFrame\n",
    "RDataFrame = ROOT.RDF.Experimental.Distributed.Spark.RDataFrame\n",
    "\n",
    "fdata1 = \"../../BuHI/Histos/finaltree_Bujk_AOD_HI2016_sample1.root\"\n",
    "fdata2 = \"../../BuHI/Histos/finaltree_Bujk_AOD_HI2016_sample2.root\"\n",
    " \n",
    "# It still accepts the same constructor arguments as traditional RDataFrame\n",
    "df = RDataFrame(\"Butree\", fdata1)\n",
    " \n",
    "# Continue the application with the traditional RDataFrame API\n",
    "sum = df.Filter(\"Bupt > 10\").Sum(\"WeightD\")\n",
    "h = df.Histo1D(\"Bupt\")\n",
    " \n",
    "print(sum.GetValue())\n",
    "\n",
    "canv = TCanvas(\"Bupt\",\"Bupt\",50,50,800,600)\n",
    "canv.cd()\n",
    "canv.Draw()\n",
    "\n",
    "h.Draw()\n",
    "canv.SaveAs(\"Bupt_m10.png\")"
   ]
  },
  {
   "cell_type": "markdown",
   "metadata": {},
   "source": [
    "#### Connecting to a Spark cluster"
   ]
  },
  {
   "cell_type": "code",
   "execution_count": 3,
   "metadata": {},
   "outputs": [],
   "source": [
    "from pyspark import *\n",
    "from pyspark.conf import SparkConf\n",
    "from pyspark.context import SparkContext\n",
    "\n",
    "# Create a SparkContext object with the right configuration for your Spark cluster\n",
    "conf = SparkConf().setAppName(\"My name\").setMaster(\"local\")\n",
    "sc = SparkContext.getOrCreate(conf=conf)\n",
    " \n",
    "# Point RDataFrame calls to the Spark specific RDataFrame\n",
    "RDataFrame = ROOT.RDF.Experimental.Distributed.Spark.RDataFrame\n",
    " \n",
    "# The Spark RDataFrame constructor accepts an optional \"sparkcontext\" parameter\n",
    "# and it will distribute the application to the connected cluster\n",
    "df = RDataFrame(\"Butree\", fdata2, sparkcontext = sc)\n"
   ]
  },
  {
   "cell_type": "markdown",
   "metadata": {},
   "source": [
    "#### Connecting to a Dask cluster"
   ]
  },
  {
   "cell_type": "code",
   "execution_count": 4,
   "metadata": {},
   "outputs": [
    {
     "ename": "AttributeError",
     "evalue": "module 'ROOT.RDF.Experimental.Distributed' has no attribute 'Dask'",
     "output_type": "error",
     "traceback": [
      "\u001b[0;31m---------------------------------------------------------------------------\u001b[0m",
      "\u001b[0;31mAttributeError\u001b[0m                            Traceback (most recent call last)",
      "\u001b[0;32m/tmp/ipykernel_7160/4063490199.py\u001b[0m in \u001b[0;36m<module>\u001b[0;34m\u001b[0m\n\u001b[1;32m      9\u001b[0m \u001b[0;34m\u001b[0m\u001b[0m\n\u001b[1;32m     10\u001b[0m \u001b[0;31m# Point RDataFrame calls to the Dask specific RDataFrame\u001b[0m\u001b[0;34m\u001b[0m\u001b[0;34m\u001b[0m\u001b[0;34m\u001b[0m\u001b[0m\n\u001b[0;32m---> 11\u001b[0;31m \u001b[0mRDataFrame\u001b[0m \u001b[0;34m=\u001b[0m \u001b[0mROOT\u001b[0m\u001b[0;34m.\u001b[0m\u001b[0mRDF\u001b[0m\u001b[0;34m.\u001b[0m\u001b[0mExperimental\u001b[0m\u001b[0;34m.\u001b[0m\u001b[0mDistributed\u001b[0m\u001b[0;34m.\u001b[0m\u001b[0mDask\u001b[0m\u001b[0;34m.\u001b[0m\u001b[0mRDataFrame\u001b[0m\u001b[0;34m\u001b[0m\u001b[0;34m\u001b[0m\u001b[0m\n\u001b[0m\u001b[1;32m     12\u001b[0m \u001b[0;34m\u001b[0m\u001b[0m\n\u001b[1;32m     13\u001b[0m \u001b[0;31m# Create the Client object to connect to the Dask cluster\u001b[0m\u001b[0;34m\u001b[0m\u001b[0;34m\u001b[0m\u001b[0;34m\u001b[0m\u001b[0m\n",
      "\u001b[0;31mAttributeError\u001b[0m: module 'ROOT.RDF.Experimental.Distributed' has no attribute 'Dask'"
     ]
    }
   ],
   "source": [
    "from dask.distributed import Client\n",
    "from dask.distributed import Client\n",
    "\n",
    "from dask import *\n",
    "\n",
    "import ROOT\n",
    "\n",
    "from ROOT import RDataFrame\n",
    "\n",
    "# Point RDataFrame calls to the Dask specific RDataFrame\n",
    "RDataFrame = ROOT.RDF.Experimental.Distributed.Dask.RDataFrame\n",
    "\n",
    "# Create the Client object to connect to the Dask cluster\n",
    "# See the Dask documentation for all the options available\n",
    "client = Client(\"DASK_SCHEDULER_ADDRESS\")\n",
    "\n",
    "# It still accepts the same constructor arguments as traditional RDataFrame\n",
    "# And supports some extra keyword arguments\n",
    "df = RDataFrame(\"Butree\", fdata1, npartitions = 8, daskclient = client)\n",
    "\n"
   ]
  },
  {
   "cell_type": "code",
   "execution_count": null,
   "metadata": {},
   "outputs": [],
   "source": []
  }
 ],
 "metadata": {
  "kernelspec": {
   "display_name": "Python 3.6.8 64-bit",
   "language": "python",
   "name": "python3"
  },
  "language_info": {
   "codemirror_mode": {
    "name": "ipython",
    "version": 3
   },
   "file_extension": ".py",
   "mimetype": "text/x-python",
   "name": "python",
   "nbconvert_exporter": "python",
   "pygments_lexer": "ipython3",
   "version": "3.8.10"
  },
  "orig_nbformat": 4,
  "vscode": {
   "interpreter": {
    "hash": "916dbcbb3f70747c44a77c7bcd40155683ae19c65e1c03b4aa3499c5328201f1"
   }
  }
 },
 "nbformat": 4,
 "nbformat_minor": 2
}
